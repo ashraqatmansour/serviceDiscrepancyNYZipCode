{
 "cells": [
  {
   "cell_type": "code",
   "execution_count": null,
   "id": "583b06aa-3198-46af-8807-e534652d37f1",
   "metadata": {},
   "outputs": [],
   "source": [
    "!pip install matplotlib\n",
    "\n",
    "import csv\n",
    "from collections import defaultdict\n",
    "import matplotlib.pyplot as plt\n",
    "from datetime import datetime"
   ]
  },
  {
   "cell_type": "code",
   "execution_count": null,
   "id": "e61831a3-2e7e-4e2a-b60e-7f2d0b297cf1",
   "metadata": {},
   "outputs": [],
   "source": [
    "# Example: count complaints by type for Jan-Feb 2024\n",
    "counts = defaultdict(int)\n",
    "\n",
    "with open(\"../data/cleaned.csv\") as f:\n",
    "    reader = csv.DictReader(f)\n",
    "    for row in reader:\n",
    "        created_dt = datetime.strptime(row[\"Created Date\"].split()[0], \"%m/%d/%Y\")\n",
    "        if datetime(2024, 1, 1) <= created_dt <= datetime(2024, 2, 29):\n",
    "            counts[row[\"Complaint Type\"]] += 1\n"
   ]
  },
  {
   "cell_type": "code",
   "execution_count": null,
   "id": "29718b4e-d59b-4aa7-b4e8-7671abfa423d",
   "metadata": {},
   "outputs": [],
   "source": [
    "# Find the most frequent complaint type\n",
    "most_common = max(counts, key=counts.get)\n",
    "print(\"Most common complaint type:\", most_common)\n",
    "\n",
    "# Create bar chart for that complaint type\n",
    "plt.bar([most_common], [counts[most_common]])\n",
    "plt.ylabel(\"Number of occurrences\")\n",
    "plt.show()\n"
   ]
  }
 ],
 "metadata": {
  "kernelspec": {
   "display_name": "Python 3 (ipykernel)",
   "language": "python",
   "name": "python3"
  },
  "language_info": {
   "codemirror_mode": {
    "name": "ipython",
    "version": 3
   },
   "file_extension": ".py",
   "mimetype": "text/x-python",
   "name": "python",
   "nbconvert_exporter": "python",
   "pygments_lexer": "ipython3",
   "version": "3.13.5"
  }
 },
 "nbformat": 4,
 "nbformat_minor": 5
}
